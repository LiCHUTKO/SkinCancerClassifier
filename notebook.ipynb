{
 "cells": [
  {
   "cell_type": "markdown",
   "metadata": {
    "id": "9otTxLoz016v"
   },
   "source": [
    "### **Importy**\n",
    "\n",
    "Poniższy kod importuje różne biblioteki i moduły niezbędne do budowy i trenowania modelu klasyfikacji raka skóry:\n",
    "\n",
    "- `os`: Interakcja z systemem operacyjnym.\n",
    "- `pandas`: Analiza danych.\n",
    "- `matplotlib.pyplot`: Wizualizacja danych.\n",
    "- `tensorflow`: Budowanie i trenowanie modeli neuronowych.\n",
    "- `numpy`: Obliczenia numeryczne.\n",
    "- `ImageDataGenerator`: Augmentacja obrazów.\n",
    "- `Sequential`: Model sekwencyjny Keras.\n",
    "- `Warstwy Keras`: Konwolucyjne, pooling, spłaszczanie, gęste, dropout, global average pooling.\n",
    "- `MobileNetV2`: Pretrenowany model do transfer learningu.\n",
    "- `Adam`: Optymalizator.\n",
    "- `train_test_split`: Podział danych na zestawy treningowe i testowe.\n",
    "- `kagglehub`: Interakcja z platformą Kaggle.\n",
    "- `EarlyStopping`: Zatrzymanie treningu przy braku poprawy.\n",
    "- `load_model`: Ładowanie zapisanych modeli.\n",
    "- `confusion_matrix, ConfusionMatrixDisplay`: Macierz pomyłek i jej wizualizacja.\n",
    "- `PIL`: Manipulacja obrazami.\n",
    "- `compute_class_weight`: Obliczanie wag klas dla niezbalansowanych danych."
   ]
  },
  {
   "cell_type": "code",
   "execution_count": 2,
   "metadata": {
    "id": "gxAO0YZz0163"
   },
   "outputs": [],
   "source": [
    "import os\n",
    "import pandas as pd\n",
    "import matplotlib.pyplot as plt\n",
    "import tensorflow as tf\n",
    "import numpy as np\n",
    "from tensorflow.keras.preprocessing.image import ImageDataGenerator, load_img, img_to_array\n",
    "from tensorflow.keras.models import Sequential\n",
    "from tensorflow.keras.layers import Conv2D, MaxPooling2D, Flatten, Dense, Dropout, GlobalAveragePooling2D\n",
    "from tensorflow.keras.applications import MobileNetV2\n",
    "from tensorflow.keras.optimizers import Adam\n",
    "from sklearn.model_selection import train_test_split\n",
    "import kagglehub\n",
    "from tensorflow.keras.callbacks import EarlyStopping\n",
    "from tensorflow.keras.models import load_model\n",
    "from sklearn.metrics import confusion_matrix, ConfusionMatrixDisplay, accuracy_score\n",
    "from PIL import Image\n",
    "from sklearn.utils.class_weight import compute_class_weight"
   ]
  },
  {
   "cell_type": "markdown",
   "metadata": {
    "id": "ytN-bCgm0166"
   },
   "source": [
    "### **Pobieranie i przygotowanie danych**\n",
    "\n",
    "Poniższy kod pobiera i przygotowuje dane do trenowania modelu klasyfikacji raka skóry:\n",
    "\n",
    "- Pobieranie datasetu `HAM10000` z Kaggle.\n",
    "- Szukanie i wczytywanie pliku metadanych `HAM10000_metadata.csv`.\n",
    "- Szukanie katalogów z obrazami.\n",
    "- Dodanie ścieżek do obrazów w dataframe.\n",
    "- Podział danych na zbiory treningowy, walidacyjny i testowy.\n",
    "- Obliczanie wag klas dla niezbalansowanych danych.\n",
    "- Tworzenie generatorów danych z augmentacją dla zbioru treningowego oraz normalizacją dla zbiorów walidacyjnego i testowego.\n",
    "- Wyświetlanie rozkładu klas w zbiorach danych."
   ]
  },
  {
   "cell_type": "code",
   "execution_count": null,
   "metadata": {
    "colab": {
     "base_uri": "https://localhost:8080/"
    },
    "id": "I0pAiON90167",
    "outputId": "08a0b737-0c13-4d62-a7e7-e806fe9c6219"
   },
   "outputs": [],
   "source": [
    "print(\"Pobieranie datasetu HAM10000...\")\n",
    "path = kagglehub.dataset_download(\"kmader/skin-cancer-mnist-ham10000\")\n",
    "base_path = path[0]\n",
    "\n",
    "print(\"\\nSzukanie pliku metadata...\")\n",
    "metadata_file = None\n",
    "for root, dirs, files in os.walk(base_path):\n",
    "    for file in files:\n",
    "        if file == 'HAM10000_metadata.csv':\n",
    "            metadata_file = os.path.join(root, file)\n",
    "            print(f\"Znaleziono plik metadata: {metadata_file}\")\n",
    "            break\n",
    "    if metadata_file:\n",
    "        break\n",
    "\n",
    "print(\"\\nWczytywanie metadanych...\")\n",
    "df = pd.read_csv(metadata_file)\n",
    "\n",
    "print(\"\\nSzukanie obrazów...\")\n",
    "images_dirs = []\n",
    "for root, dirs, files in os.walk(base_path):\n",
    "    for dir_name in dirs:\n",
    "        if dir_name.startswith('HAM10000_images'):\n",
    "            images_dirs.append(os.path.join(root, dir_name))\n",
    "\n",
    "print(f\"Znalezione katalogi z obrazami: {images_dirs}\")\n",
    "\n",
    "def find_image_path(image_id):\n",
    "    for dir_path in images_dirs:\n",
    "        img_path = os.path.join(dir_path, f'{image_id}.jpg')\n",
    "        if os.path.exists(img_path):\n",
    "            return img_path\n",
    "    return None\n",
    "\n",
    "df['filepath'] = df['image_id'].apply(find_image_path)\n",
    "\n",
    "df = df.dropna(subset=['filepath'])\n",
    "\n",
    "print(\"\\nRozkład klas w zbiorze:\")\n",
    "print(df['dx'].value_counts())\n",
    "\n",
    "train_df, temp_df = train_test_split(df, test_size=0.2, stratify=df['dx'], random_state=42)\n",
    "val_df, test_df = train_test_split(temp_df, test_size=0.5, stratify=temp_df['dx'], random_state=42)\n",
    "\n",
    "print(f\"\\nRozmiary zbiorów:\")\n",
    "print(f\"Rozmiar zbioru treningowego: {len(train_df)}\")\n",
    "print(f\"Rozmiar zbioru walidacyjnego: {len(val_df)}\")\n",
    "print(f\"Rozmiar zbioru testowego: {len(test_df)}\")\n",
    "\n",
    "img_size = (224, 224)\n",
    "batch_size = 32\n",
    "\n",
    "class_weights = compute_class_weight(\n",
    "    class_weight='balanced',\n",
    "    classes=np.unique(train_df['dx']),\n",
    "    y=train_df['dx']\n",
    ")\n",
    "class_weight_dict = dict(zip(range(len(np.unique(train_df['dx']))), class_weights))\n",
    "\n",
    "train_datagen = ImageDataGenerator(\n",
    "    rescale=1./255,\n",
    "    rotation_range=30,\n",
    "    zoom_range=0.2,\n",
    "    width_shift_range=0.2,\n",
    "    height_shift_range=0.2,\n",
    "    horizontal_flip=True,\n",
    "    vertical_flip=True,\n",
    "    fill_mode='nearest',\n",
    "    brightness_range=[0.8,1.2],\n",
    "    shear_range=0.2\n",
    ")\n",
    "\n",
    "val_test_datagen = ImageDataGenerator(rescale=1./255)\n",
    "\n",
    "train_generator = train_datagen.flow_from_dataframe(\n",
    "    dataframe=train_df,\n",
    "    x_col='filepath',\n",
    "    y_col='dx',\n",
    "    target_size=img_size,\n",
    "    batch_size=batch_size,\n",
    "    class_mode='categorical',\n",
    "    shuffle=True\n",
    ")\n",
    "\n",
    "val_generator = val_test_datagen.flow_from_dataframe(\n",
    "    dataframe=val_df,\n",
    "    x_col='filepath',\n",
    "    y_col='dx',\n",
    "    target_size=img_size,\n",
    "    batch_size=batch_size,\n",
    "    class_mode='categorical',\n",
    "    shuffle=True\n",
    ")\n",
    "\n",
    "test_generator = val_test_datagen.flow_from_dataframe(\n",
    "    dataframe=test_df,\n",
    "    x_col='filepath',\n",
    "    y_col='dx',\n",
    "    target_size=img_size,\n",
    "    batch_size=batch_size,\n",
    "    class_mode='categorical',\n",
    "    shuffle=False\n",
    ")\n",
    "\n",
    "print(\"\\nRozkład klas w zbiorach:\")\n",
    "print(\"\\nZbiór treningowy:\")\n",
    "print(train_df['dx'].value_counts())\n",
    "print(\"\\nZbiór walidacyjny:\")\n",
    "print(val_df['dx'].value_counts())\n",
    "print(\"\\nZbiór testowy:\")\n",
    "print(test_df['dx'].value_counts())"
   ]
  },
  {
   "cell_type": "markdown",
   "metadata": {
    "id": "KN_efz8f0169"
   },
   "source": [
    "### **Wizualizacja danych**\n",
    "\n",
    "Poniższy kod wizualizuje przykłady obrazów dla każdej klasy oraz wyświetla liczbę przypadków w każdej klasie:\n",
    "\n",
    "- `dx_descriptions`: Słownik z opisami klas zmian skórnych.\n",
    "- `examples`: Słownik z przykładowymi ścieżkami do obrazów dla każdej klasy.\n",
    "- Tworzenie wykresu z przykładami obrazów dla każdej klasy.\n",
    "- Wyświetlanie liczby przypadków w każdej klasie."
   ]
  },
  {
   "cell_type": "code",
   "execution_count": null,
   "metadata": {
    "colab": {
     "base_uri": "https://localhost:8080/",
     "height": 1000
    },
    "id": "MX6t9nKW016-",
    "outputId": "7ff2aee8-ae21-4b60-9556-cbff68674a42"
   },
   "outputs": [
    {
     "name": "stdout",
     "output_type": "stream",
     "text": []
    },
    {
     "name": "stdout",
     "output_type": "stream",
     "text": []
    }
   ],
   "source": [
    "dx_descriptions = {\n",
    "    'akiec': 'Rogowacenie słoneczne / Rak kolczystokomórkowy (in situ)',\n",
    "    'bcc': 'Rak podstawnokomórkowy',\n",
    "    'bkl': 'Łagodne zmiany keratotyczne (keratosis benigna)',\n",
    "    'df': 'Włókniak twardy (dermatofibroma)',\n",
    "    'nv': 'Znamię melanocytowe',\n",
    "    'mel': 'Czerniak',\n",
    "    'vasc': 'Zmiany naczyniowe'\n",
    "}\n",
    "\n",
    "examples = {}\n",
    "for dx in df['dx'].unique():\n",
    "    example = df[df['dx'] == dx].iloc[0]\n",
    "    examples[dx] = example['filepath']\n",
    "\n",
    "plt.figure(figsize=(20, 10))\n",
    "\n",
    "for idx, (dx, img_path) in enumerate(examples.items(), 1):\n",
    "    try:\n",
    "        img = Image.open(img_path)\n",
    "        plt.subplot(2, 4, idx)\n",
    "        plt.imshow(img)\n",
    "        plt.title(f\"{dx.upper()}\\n{dx_descriptions[dx]}\", fontsize=10)\n",
    "        plt.axis('off')\n",
    "    except Exception as e:\n",
    "        print(f\"Nie udało się załadować obrazu dla klasy {dx}: {e}\")\n",
    "\n",
    "plt.tight_layout()\n",
    "plt.show()\n",
    "\n",
    "print(\"\\nLiczba przypadków w każdej klasie:\")\n",
    "class_counts = df['dx'].value_counts()\n",
    "for dx in df['dx'].unique():\n",
    "    print(f\"\\n{dx.upper()} - {dx_descriptions[dx]}\")\n",
    "    print(f\"Liczba przypadków: {class_counts[dx]}\")"
   ]
  },
  {
   "cell_type": "markdown",
   "metadata": {
    "id": "x3A_hdq5017A"
   },
   "source": [
    "### **Trenowanie modelu CNN**\n",
    "\n",
    "Poniższy kod definiuje, kompiluje i trenuje model konwolucyjnej sieci neuronowej (CNN) od podstaw:\n",
    "\n",
    "- Definicja modelu `Sequential` z warstwami konwolucyjnymi (`Conv2D`), pooling (`MaxPooling2D`), spłaszczającą (`Flatten`), gęstą (`Dense`) i dropout (`Dropout`).\n",
    "- Kompilacja modelu z optymalizatorem `Adam`, funkcją straty `categorical_crossentropy` i metryką `accuracy`.\n",
    "- Ustawienie callbacku `EarlyStopping` do zatrzymania treningu przy braku poprawy.\n",
    "- Wyświetlenie podsumowania modelu.\n",
    "- Trenowanie modelu na zbiorze treningowym z walidacją na zbiorze walidacyjnym, z użyciem wag klas i callbacku `EarlyStopping`.\n",
    "- Zapisanie wytrenowanego modelu do pliku `model_cnn.h5`."
   ]
  },
  {
   "cell_type": "code",
   "execution_count": null,
   "metadata": {
    "colab": {
     "base_uri": "https://localhost:8080/",
     "height": 913
    },
    "id": "o05yEQRw017B",
    "outputId": "f0e9bc3a-f8c0-4aab-d2f0-d68f77d6c2c2"
   },
   "outputs": [
    {
     "name": "stdout",
     "output_type": "stream",
     "text": []
    },
    {
     "name": "stdout",
     "output_type": "stream",
     "text": []
    },
    {
     "name": "stdout",
     "output_type": "stream",
     "text": []
    },
    {
     "name": "stdout",
     "output_type": "stream",
     "text": []
    },
    {
     "name": "stdout",
     "output_type": "stream",
     "text": []
    },
    {
     "name": "stdout",
     "output_type": "stream",
     "text": []
    },
    {
     "name": "stdout",
     "output_type": "stream",
     "text": []
    },
    {
     "name": "stdout",
     "output_type": "stream",
     "text": []
    }
   ],
   "source": [
    "print(\"Trenowanie modelu CNN od podstaw...\")\n",
    "\n",
    "model_cnn = Sequential([\n",
    "    Conv2D(32, (3, 3), activation='relu', input_shape=(img_size[0], img_size[1], 3)),\n",
    "    MaxPooling2D((2, 2)),\n",
    "\n",
    "    Conv2D(64, (3, 3), activation='relu'),\n",
    "    MaxPooling2D((2, 2)),\n",
    "\n",
    "    Conv2D(128, (3, 3), activation='relu'),\n",
    "    MaxPooling2D((2, 2)),\n",
    "\n",
    "    Flatten(),\n",
    "    Dense(128, activation='relu'),\n",
    "    Dropout(0.5),\n",
    "    Dense(7, activation='softmax')\n",
    "])\n",
    "\n",
    "model_cnn.compile(\n",
    "    optimizer=Adam(learning_rate=0.0001),\n",
    "    loss='categorical_crossentropy',\n",
    "    metrics=['accuracy']\n",
    ")\n",
    "\n",
    "early_stopping = EarlyStopping(\n",
    "    monitor='val_loss',\n",
    "    patience=5,\n",
    "    restore_best_weights=True,\n",
    "    mode='min',\n",
    "    verbose=1\n",
    ")\n",
    "\n",
    "model_cnn.summary()\n",
    "\n",
    "history_cnn = model_cnn.fit(\n",
    "    train_generator,\n",
    "    validation_data=val_generator,\n",
    "    epochs=100,\n",
    "    class_weight=class_weight_dict,\n",
    "    callbacks=[early_stopping]\n",
    ")\n",
    "\n",
    "model_cnn.save('models/model_cnn.h5')"
   ]
  },
  {
   "cell_type": "markdown",
   "metadata": {
    "id": "dwmT_rTt017C"
   },
   "source": [
    "### **Wizualizacja wyników treningu**\n",
    "\n",
    "Poniższy kod wizualizuje wyniki treningu modelu CNN:\n",
    "\n",
    "- Tworzenie wykresu strat treningowych i walidacyjnych w zależności od epoki.\n",
    "- Tworzenie wykresu dokładności treningowej i walidacyjnej w zależności od epoki.\n",
    "- Wyświetlanie wykresów obok siebie dla lepszego porównania."
   ]
  },
  {
   "cell_type": "code",
   "execution_count": null,
   "metadata": {
    "colab": {
     "base_uri": "https://localhost:8080/",
     "height": 507
    },
    "id": "JpRG8ldk017C",
    "outputId": "cd815339-d54a-4293-ebdd-83f1feae092e"
   },
   "outputs": [
    {
     "name": "stdout",
     "output_type": "stream",
     "text": []
    }
   ],
   "source": [
    "plt.figure(figsize=(12, 5))\n",
    "\n",
    "plt.subplot(1, 2, 1)\n",
    "plt.plot(history_cnn.history['loss'], label='Strata treningowa')\n",
    "plt.plot(history_cnn.history['val_loss'], label='Strata walidacyjna')\n",
    "plt.title('Loss - CNN')\n",
    "plt.xlabel('Epoka')\n",
    "plt.ylabel('Strata')\n",
    "plt.legend()\n",
    "\n",
    "plt.subplot(1, 2, 2)\n",
    "plt.plot(history_cnn.history['accuracy'], label='Dokładność treningowa')\n",
    "plt.plot(history_cnn.history['val_accuracy'], label='Dokładność walidacyjna')\n",
    "plt.title('Accuracy - CNN')\n",
    "plt.xlabel('Epoka')\n",
    "plt.ylabel('Dokładność')\n",
    "plt.legend()\n",
    "\n",
    "plt.tight_layout()\n",
    "\n",
    "plt.savefig('learning_curves/learning_curves_cnn.png')\n",
    "\n",
    "plt.show()"
   ]
  },
  {
   "cell_type": "markdown",
   "metadata": {
    "id": "OAQuaIi5017D"
   },
   "source": [
    "### **Ewaluacja modelu CNN**\n",
    "\n",
    "Poniższy kod ocenia model CNN na zbiorze testowym:\n",
    "\n",
    "- `y_true`: Prawdziwe klasy z generatora testowego.\n",
    "- `y_pred`: Przewidywane prawdopodobieństwa klas przez model.\n",
    "- `y_pred_classes`: Przewidywane klasy (indeksy) przez model.\n",
    "- Obliczanie i wyświetlanie macierzy pomyłek (`confusion_matrix`).\n",
    "- Wyświetlanie macierzy pomyłek jako procentów."
   ]
  },
  {
   "cell_type": "code",
   "execution_count": null,
   "metadata": {
    "colab": {
     "base_uri": "https://localhost:8080/",
     "height": 944
    },
    "id": "LW3sNEg2017D",
    "outputId": "6eedf79a-577a-41d1-b02e-729493f551c5"
   },
   "outputs": [
    {
     "name": "stdout",
     "output_type": "stream",
     "text": []
    },
    {
     "name": "stdout",
     "output_type": "stream",
     "text": []
    },
    {
     "name": "stdout",
     "output_type": "stream",
     "text": []
    }
   ],
   "source": [
    "y_true = test_generator.classes\n",
    "y_pred = model_cnn.predict(test_generator)\n",
    "y_pred_classes = np.argmax(y_pred, axis=1)\n",
    "\n",
    "cm = confusion_matrix(y_true, y_pred_classes)\n",
    "cmd = ConfusionMatrixDisplay(cm, display_labels=test_generator.class_indices.keys())\n",
    "cmd.plot(cmap=plt.cm.Blues)\n",
    "plt.title('Confusion Matrix - CNN')\n",
    "plt.show()\n",
    "\n",
    "cm_percentage = cm.astype('float') / cm.sum(axis=1)[:, np.newaxis] * 100\n",
    "cmd_percentage = ConfusionMatrixDisplay(cm_percentage, display_labels=test_generator.class_indices.keys())\n",
    "cmd_percentage.plot(cmap=plt.cm.Blues)\n",
    "plt.title('Percentage Confusion Matrix - CNN')\n",
    "\n",
    "plt.savefig('evaluation/percentage_confusion_matrix_cnn.png')\n",
    "\n",
    "plt.show()"
   ]
  },
  {
   "cell_type": "markdown",
   "metadata": {
    "id": "mHqXIhjr017F"
   },
   "source": [
    "### **Trenowanie modelu z Transfer Learningiem (MobileNetV2)**\n",
    "\n",
    "Poniższy kod definiuje, kompiluje i trenuje model z wykorzystaniem transfer learningu na bazie MobileNetV2:\n",
    "\n",
    "- `base_model`: Pretrenowany model MobileNetV2 bez górnych warstw, z zamrożonymi wagami.\n",
    "- Definicja modelu `Sequential` z bazowym modelem, globalną warstwą pooling, gęstą warstwą i dropout.\n",
    "- Kompilacja modelu z optymalizatorem `Adam`, funkcją straty `categorical_crossentropy` i metryką `accuracy`.\n",
    "- Wyświetlenie podsumowania modelu.\n",
    "- Trenowanie modelu na zbiorze treningowym z walidacją na zbiorze walidacyjnym, z użyciem wag klas i callbacku `EarlyStopping`.\n",
    "- Zapisanie wytrenowanego modelu do pliku `model_tl.h5`."
   ]
  },
  {
   "cell_type": "code",
   "execution_count": null,
   "metadata": {
    "colab": {
     "base_uri": "https://localhost:8080/",
     "height": 375
    },
    "id": "qoDnajqv017F",
    "outputId": "ecfd9c6d-3b5e-4576-9973-e55dc8e9d210"
   },
   "outputs": [],
   "source": [
    "print(\"Trenowanie modelu z Transfer Learningiem (MobileNetV2)...\")\n",
    "\n",
    "base_model = MobileNetV2(\n",
    "    include_top=False,\n",
    "    weights='imagenet',\n",
    "    input_shape=(img_size[0], img_size[1], 3)\n",
    ")\n",
    "\n",
    "base_model.trainable = False\n",
    "\n",
    "model_tl = Sequential([\n",
    "    base_model,\n",
    "    GlobalAveragePooling2D(),\n",
    "    Dense(128, activation='relu'),\n",
    "    Dropout(0.5),\n",
    "    Dense(7, activation='softmax')\n",
    "])\n",
    "\n",
    "model_tl.compile(\n",
    "    optimizer=Adam(learning_rate=0.0001),\n",
    "    loss='categorical_crossentropy',\n",
    "    metrics=['accuracy']\n",
    ")\n",
    "\n",
    "model_tl.summary()\n",
    "\n",
    "history_tl = model_tl.fit(\n",
    "    train_generator,\n",
    "    validation_data=val_generator,\n",
    "    epochs=100,\n",
    "    class_weight=class_weight_dict,\n",
    "    callbacks=[early_stopping]\n",
    ")\n",
    "\n",
    "model_tl.save('models/model_tl.h5')"
   ]
  },
  {
   "cell_type": "markdown",
   "metadata": {
    "id": "SHu5wW6L017G"
   },
   "source": [
    "### **Wizualizacja wyników treningu (Transfer Learning)**\n",
    "\n",
    "Poniższy kod wizualizuje wyniki treningu modelu z transfer learningiem:\n",
    "\n",
    "- Tworzenie wykresu strat treningowych i walidacyjnych w zależności od epoki.\n",
    "- Tworzenie wykresu dokładności treningowej i walidacyjnej w zależności od epoki.\n",
    "- Wyświetlanie wykresów obok siebie dla lepszego porównania."
   ]
  },
  {
   "cell_type": "code",
   "execution_count": null,
   "metadata": {
    "colab": {
     "base_uri": "https://localhost:8080/",
     "height": 507
    },
    "id": "x3-BzSuK017G",
    "outputId": "42e5ce62-8d32-4e93-f465-027d120dd85d"
   },
   "outputs": [
    {
     "name": "stdout",
     "output_type": "stream",
     "text": []
    }
   ],
   "source": [
    "plt.figure(figsize=(12, 5))\n",
    "\n",
    "plt.subplot(1, 2, 1)\n",
    "plt.plot(history_tl.history['loss'], label='Strata treningowa')\n",
    "plt.plot(history_tl.history['val_loss'], label='Strata walidacyjna')\n",
    "plt.title('Loss - Transfer Learning')\n",
    "plt.xlabel('Epoka')\n",
    "plt.ylabel('Strata')\n",
    "plt.legend()\n",
    "\n",
    "plt.subplot(1, 2, 2)\n",
    "plt.plot(history_tl.history['accuracy'], label='Dokładność treningowa')\n",
    "plt.plot(history_tl.history['val_accuracy'], label='Dokładność walidacyjna')\n",
    "plt.title('Accuracy - Transfer Learning')\n",
    "plt.xlabel('Epoka')\n",
    "plt.ylabel('Dokładność')\n",
    "plt.legend()\n",
    "\n",
    "plt.tight_layout()\n",
    "\n",
    "plt.savefig('learning_curves/learning_curves_tl.png')\n",
    "\n",
    "plt.show()"
   ]
  },
  {
   "cell_type": "markdown",
   "metadata": {
    "id": "2NnTBS0x017G"
   },
   "source": [
    "### **Ewaluacja modelu z Transfer Learningiem**\n",
    "\n",
    "Poniższy kod ocenia model z transfer learningiem na zbiorze testowym:\n",
    "\n",
    "- `y_true_tl`: Prawdziwe klasy z generatora testowego.\n",
    "- `y_pred_tl`: Przewidywane prawdopodobieństwa klas przez model.\n",
    "- `y_pred_classes_tl`: Przewidywane klasy (indeksy) przez model.\n",
    "- Obliczanie i wyświetlanie macierzy pomyłek (`confusion_matrix`).\n",
    "- Wyświetlanie macierzy pomyłek jako procentów."
   ]
  },
  {
   "cell_type": "code",
   "execution_count": null,
   "metadata": {
    "colab": {
     "base_uri": "https://localhost:8080/",
     "height": 944
    },
    "id": "5zUFH9xQ017G",
    "outputId": "7449289d-13e8-44f6-dfbd-8f845dc2a282"
   },
   "outputs": [
    {
     "name": "stdout",
     "output_type": "stream",
     "text": []
    },
    {
     "name": "stdout",
     "output_type": "stream",
     "text": []
    },
    {
     "name": "stdout",
     "output_type": "stream",
     "text": []
    }
   ],
   "source": [
    "y_true_tl = test_generator.classes\n",
    "y_pred_tl = model_tl.predict(test_generator)\n",
    "y_pred_classes_tl = np.argmax(y_pred_tl, axis=1)\n",
    "\n",
    "cm_tl = confusion_matrix(y_true_tl, y_pred_classes_tl)\n",
    "cmd_tl = ConfusionMatrixDisplay(cm_tl, display_labels=test_generator.class_indices.keys())\n",
    "cmd_tl.plot(cmap=plt.cm.Blues)\n",
    "plt.title('Confusion Matrix - Transfer Learning')\n",
    "plt.show()\n",
    "\n",
    "cm_percentage_tl = cm_tl.astype('float') / cm_tl.sum(axis=1)[:, np.newaxis] * 100\n",
    "cmd_percentage_tl = ConfusionMatrixDisplay(cm_percentage_tl, display_labels=test_generator.class_indices.keys())\n",
    "cmd_percentage_tl.plot(cmap=plt.cm.Blues)\n",
    "plt.title('Percentage Confusion Matrix - Transfer Learning')\n",
    "\n",
    "plt.savefig('evaluation/percentage_confusion_matrix_tl.png')\n",
    "\n",
    "plt.show()"
   ]
  },
  {
   "cell_type": "markdown",
   "metadata": {},
   "source": [
    "### **Ewaluacja modeli CNN i Transfer Learning**\n",
    "\n",
    "Poniższy kod ocenia modele CNN i Transfer Learning (TL) na zbiorze testowym:\n",
    "\n",
    "- `y_true`: Prawdziwe klasy z generatora testowego.\n",
    "- `y_pred_cnn`: Przewidywane prawdopodobieństwa klas przez model CNN.\n",
    "- `y_pred_classes_cnn`: Przewidywane klasy (indeksy) przez model CNN.\n",
    "- `y_pred_tl`: Przewidywane prawdopodobieństwa klas przez model TL.\n",
    "- `y_pred_classes_tl`: Przewidywane klasy (indeksy) przez model TL.\n",
    "- Obliczanie i wyświetlanie macierzy pomyłek (`confusion_matrix`) dla obu modeli.\n",
    "- Wyświetlanie macierzy pomyłek jako procentów dla obu modeli.\n",
    "\n"
   ]
  },
  {
   "cell_type": "code",
   "execution_count": null,
   "metadata": {},
   "outputs": [],
   "source": [
    "model_cnn = load_model('models/model_cnn.h5')\n",
    "model_tl = load_model('models/model_tl.h5')\n",
    "\n",
    "y_pred_cnn = np.argmax(model_cnn.predict(test_generator), axis=1)\n",
    "y_pred_tl = np.argmax(model_tl.predict(test_generator), axis=1)\n",
    "\n",
    "accuracy_cnn = accuracy_score(test_generator.classes, y_pred_cnn)\n",
    "accuracy_tl = accuracy_score(test_generator.classes, y_pred_tl)\n",
    "\n",
    "print(f'Dokładność modelu CNN: {accuracy_cnn:.2f}')\n",
    "print(f'Dokładność modelu TL: {accuracy_tl:.2f}')\n",
    "\n",
    "cm_cnn = confusion_matrix(test_generator.classes, y_pred_cnn)\n",
    "cm_tl = confusion_matrix(test_generator.classes, y_pred_tl)\n",
    "\n",
    "fig, ax = plt.subplots(1, 2, figsize=(12, 6))\n",
    "\n",
    "ConfusionMatrixDisplay(cm_cnn).plot(ax=ax[0], cmap='Blues')\n",
    "ax[0].set_title('Macierz pomyłek - Model CNN')\n",
    "\n",
    "ConfusionMatrixDisplay(cm_tl).plot(ax=ax[1], cmap='Blues')\n",
    "ax[1].set_title('Macierz pomyłek - Model TL')\n",
    "\n",
    "plt.show()"
   ]
  },
  {
   "cell_type": "markdown",
   "metadata": {},
   "source": [
    "### **Funkcja predykcji**\n",
    "\n",
    "Poniższa funkcja `predict_skin()` służy do klasyfikacji zdjęć zmian skórnych przy użyciu wytrenowanego modelu:\n",
    "\n",
    "- Przyjmuje dwa parametry:\n",
    "  - `model_path`: Ścieżka do zapisanego modelu (.h5)\n",
    "  - `image_path`: Ścieżka do zdjęcia do analizy\n",
    "\n",
    "- Wykonuje następujące operacje:\n",
    "  - Wczytuje zapisany model\n",
    "  - Przetwarza zdjęcie do formatu 224x224 pikseli\n",
    "  - Normalizuje wartości pikseli do zakresu [0,1]\n",
    "  - Dokonuje predykcji\n",
    "  - Wyświetla wynik wraz ze zdjęciem\n",
    "\n",
    "- Klasy wyjściowe:\n",
    "  - akiec: Keratoza actinowa\n",
    "  - bcc: Rak podstawnokomórkowy\n",
    "  - bkl: Łagodne zmiany keratotyczne\n",
    "  - df: Włókniak\n",
    "  - mel: Czerniak\n",
    "  - nv: Znamię melanocytowe\n",
    "  - vasc: Zmiany naczyniowe"
   ]
  },
  {
   "cell_type": "code",
   "execution_count": null,
   "metadata": {},
   "outputs": [],
   "source": [
    "def predict_skin(model_path, image_path):\n",
    "    model = load_model(model_path)\n",
    "    \n",
    "    img = tensorflow.keras.preprocessing.image.load_img(\n",
    "        image_path, \n",
    "        target_size=(224, 224)\n",
    "    )\n",
    "    img_array = tensorflow.keras.preprocessing.image.img_to_array(img)\n",
    "    img_array = img_array / 255.0  \n",
    "    img_array = numpy.expand_dims(img_array, axis=0)  \n",
    "    \n",
    "\n",
    "    prediction = model.predict(img_array)\n",
    "    class_names = ['akiec', 'bcc', 'bkl', 'df', 'mel', 'nv', 'vasc']\n",
    "    predicted_class = class_names[numpy.argmax(prediction)]\n",
    "    confidence = numpy.max(prediction) * 100\n",
    "    \n",
    "\n",
    "    print(f\"Predicted class: {predicted_class}\")\n",
    "    print(f\"Confidence: {confidence:.2f}%\")\n",
    "    \n",
    "\n",
    "    plt.figure(figsize=(6, 6))\n",
    "    plt.imshow(img)\n",
    "    plt.title(f\"Predicted: {predicted_class}\\nConfidence: {confidence:.2f}%\")\n",
    "    plt.axis('off')\n",
    "    plt.show()\n",
    "\n",
    "# Example usage\n",
    "# predict_skin_lesion('models/model_cnn.h5', 'path/to/your/image.jpg')"
   ]
  }
 ],
 "metadata": {
  "accelerator": "GPU",
  "colab": {
   "gpuType": "T4",
   "provenance": []
  },
  "kernelspec": {
   "display_name": "base",
   "language": "python",
   "name": "python3"
  },
  "language_info": {
   "codemirror_mode": {
    "name": "ipython",
    "version": 3
   },
   "file_extension": ".py",
   "mimetype": "text/x-python",
   "name": "python",
   "nbconvert_exporter": "python",
   "pygments_lexer": "ipython3",
   "version": "3.12.7"
  }
 },
 "nbformat": 4,
 "nbformat_minor": 0
}
